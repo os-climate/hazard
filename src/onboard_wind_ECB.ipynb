{
 "cells": [
  {
   "cell_type": "markdown",
   "id": "0918eac8",
   "metadata": {},
   "source": [
    "## Onboard Wind Hazard Maps from European Central Bank (ECB) to OS-C S3 bucket\n",
    "\n",
    "The data was directly sendt by the ECB via email and covers wind speed return periods for Europe. \n",
    "\n",
    "Return periods: 5, 10, 50, 100, and 500 years.\n",
    "\n",
    "The data is provided for every european nuts_id, so we need to download [eurostat geojson](https://ec.europa.eu/eurostat/web/gisco/geodata/reference-data/administrative-units-statistical-units/nuts) to convert to lat/lon."
   ]
  },
  {
   "cell_type": "markdown",
   "id": "413beffc",
   "metadata": {},
   "source": [
    "## Create Zarr from shape and Affine transformation\n",
    "\n",
    "<span style=\"color:blue\">Note: this file must be located in /hazard/src/ for the dependencies to work</span>"
   ]
  },
  {
   "cell_type": "code",
   "execution_count": 1,
   "id": "d6d1053e",
   "metadata": {},
   "outputs": [
    {
     "name": "stderr",
     "output_type": "stream",
     "text": [
      "c:\\ProgramData\\Anaconda3\\lib\\site-packages\\xarray\\backends\\cfgrib_.py:27: UserWarning: Failed to load cfgrib - most likely there is a problem accessing the ecCodes library. Try `import cfgrib` to get the full error message\n",
      "  warnings.warn(\n"
     ]
    }
   ],
   "source": [
    "import sys\n",
    "import os\n",
    "import s3fs\n",
    "import zarr\n",
    "import numpy as np\n",
    "import rasterio\n",
    "import math\n",
    "import xarray as xr\n",
    "import math\n",
    "import pyproj\n",
    "import pandas as pd\n",
    "import geopandas as gpd\n",
    "\n",
    "from pyproj.crs import CRS\n",
    "from affine import Affine\n",
    "\n",
    "from hazard.sources.osc_zarr import OscZarr"
   ]
  },
  {
   "cell_type": "code",
   "execution_count": 2,
   "id": "dbf0b9c6",
   "metadata": {},
   "outputs": [
    {
     "data": {
      "application/vnd.jupyter.widget-view+json": {
       "model_id": "647690f8a71d4eba932df6608f5cdc8e",
       "version_major": 2,
       "version_minor": 0
      },
      "text/plain": [
       "Tree(nodes=(Node(disabled=True, name='/', nodes=(Node(disabled=True, name='physrisk-hazard-indicators-dev01', …"
      ]
     },
     "execution_count": 2,
     "metadata": {},
     "output_type": "execute_result"
    }
   ],
   "source": [
    "# https://console-openshift-console.apps.odh-cl1.apps.os-climate.org/k8s/ns/sandbox/secrets/physrisk-dev-s3-keys\n",
    "# Hazard indicators bucket\n",
    "default_staging_bucket = 'physrisk-hazard-indicators-dev01'\n",
    "prefix = 'hazard'\n",
    "\n",
    "# Acess key and secret key are stored as env vars OSC_S3_HI_ACCESS_KEY and OSC_S3_HI_SECRET_KEY, resp.\n",
    "s3 = s3fs.S3FileSystem(anon=False, key=os.environ[\"OSC_S3_HIdev01_ACCESS_KEY\"], secret=os.environ[\"OSC_S3_HIdev01_SECRET_KEY\"])\n",
    "\n",
    "# Define zarr group\n",
    "zarr_storage = 'hazard.zarr'\n",
    "group_path = os.path.join(default_staging_bucket, prefix, zarr_storage).replace('\\\\','/')\n",
    "store = s3fs.S3Map(root=group_path, s3=s3, check=False)\n",
    "root = zarr.group(store=store, overwrite=False) \n",
    "\n",
    "# zarr_ storage tree\n",
    "root.tree()"
   ]
  },
  {
   "cell_type": "code",
   "execution_count": 3,
   "id": "04f36217",
   "metadata": {},
   "outputs": [
    {
     "data": {
      "text/plain": [
       "['physrisk-hazard-indicators-dev01/hazard/hazard.zarr',\n",
       " 'physrisk-hazard-indicators-dev01/hazard/riverflood_JRC_RP_hist.zarr']"
      ]
     },
     "execution_count": 3,
     "metadata": {},
     "output_type": "execute_result"
    }
   ],
   "source": [
    "# List folder files\n",
    "s3.ls(os.path.join(default_staging_bucket, prefix).replace('\\\\','/'))"
   ]
  },
  {
   "cell_type": "code",
   "execution_count": 4,
   "id": "b87b92ff",
   "metadata": {},
   "outputs": [],
   "source": [
    "# Create OscZarr object to interact with the bucket.\n",
    "oscZ = OscZarr(bucket=default_staging_bucket,\n",
    "        prefix=prefix,\n",
    "        s3=s3,\n",
    "        store=store)"
   ]
  },
  {
   "cell_type": "code",
   "execution_count": 5,
   "id": "53437d26",
   "metadata": {},
   "outputs": [
    {
     "data": {
      "text/html": [
       "<div>\n",
       "<style scoped>\n",
       "    .dataframe tbody tr th:only-of-type {\n",
       "        vertical-align: middle;\n",
       "    }\n",
       "\n",
       "    .dataframe tbody tr th {\n",
       "        vertical-align: top;\n",
       "    }\n",
       "\n",
       "    .dataframe thead th {\n",
       "        text-align: right;\n",
       "    }\n",
       "</style>\n",
       "<table border=\"1\" class=\"dataframe\">\n",
       "  <thead>\n",
       "    <tr style=\"text-align: right;\">\n",
       "      <th></th>\n",
       "      <th>rp</th>\n",
       "      <th>nuts_id</th>\n",
       "      <th>gustspeed</th>\n",
       "      <th>ctr</th>\n",
       "    </tr>\n",
       "  </thead>\n",
       "  <tbody>\n",
       "    <tr>\n",
       "      <th>0</th>\n",
       "      <td>5</td>\n",
       "      <td>AL011</td>\n",
       "      <td>27.440091</td>\n",
       "      <td>AL</td>\n",
       "    </tr>\n",
       "    <tr>\n",
       "      <th>1</th>\n",
       "      <td>5</td>\n",
       "      <td>AL012</td>\n",
       "      <td>37.324202</td>\n",
       "      <td>AL</td>\n",
       "    </tr>\n",
       "    <tr>\n",
       "      <th>2</th>\n",
       "      <td>5</td>\n",
       "      <td>AL013</td>\n",
       "      <td>27.117959</td>\n",
       "      <td>AL</td>\n",
       "    </tr>\n",
       "    <tr>\n",
       "      <th>3</th>\n",
       "      <td>5</td>\n",
       "      <td>AL014</td>\n",
       "      <td>33.951803</td>\n",
       "      <td>AL</td>\n",
       "    </tr>\n",
       "    <tr>\n",
       "      <th>4</th>\n",
       "      <td>5</td>\n",
       "      <td>AL015</td>\n",
       "      <td>36.102142</td>\n",
       "      <td>AL</td>\n",
       "    </tr>\n",
       "    <tr>\n",
       "      <th>...</th>\n",
       "      <td>...</td>\n",
       "      <td>...</td>\n",
       "      <td>...</td>\n",
       "      <td>...</td>\n",
       "    </tr>\n",
       "    <tr>\n",
       "      <th>7430</th>\n",
       "      <td>500</td>\n",
       "      <td>UKN0C</td>\n",
       "      <td>64.945687</td>\n",
       "      <td>UK</td>\n",
       "    </tr>\n",
       "    <tr>\n",
       "      <th>7431</th>\n",
       "      <td>500</td>\n",
       "      <td>UKN0D</td>\n",
       "      <td>45.752930</td>\n",
       "      <td>UK</td>\n",
       "    </tr>\n",
       "    <tr>\n",
       "      <th>7432</th>\n",
       "      <td>500</td>\n",
       "      <td>UKN0E</td>\n",
       "      <td>45.135838</td>\n",
       "      <td>UK</td>\n",
       "    </tr>\n",
       "    <tr>\n",
       "      <th>7433</th>\n",
       "      <td>500</td>\n",
       "      <td>UKN0F</td>\n",
       "      <td>53.088222</td>\n",
       "      <td>UK</td>\n",
       "    </tr>\n",
       "    <tr>\n",
       "      <th>7434</th>\n",
       "      <td>500</td>\n",
       "      <td>UKN0G</td>\n",
       "      <td>41.376468</td>\n",
       "      <td>UK</td>\n",
       "    </tr>\n",
       "  </tbody>\n",
       "</table>\n",
       "<p>7435 rows × 4 columns</p>\n",
       "</div>"
      ],
      "text/plain": [
       "       rp nuts_id  gustspeed ctr\n",
       "0       5   AL011  27.440091  AL\n",
       "1       5   AL012  37.324202  AL\n",
       "2       5   AL013  27.117959  AL\n",
       "3       5   AL014  33.951803  AL\n",
       "4       5   AL015  36.102142  AL\n",
       "...   ...     ...        ...  ..\n",
       "7430  500   UKN0C  64.945687  UK\n",
       "7431  500   UKN0D  45.752930  UK\n",
       "7432  500   UKN0E  45.135838  UK\n",
       "7433  500   UKN0F  53.088222  UK\n",
       "7434  500   UKN0G  41.376468  UK\n",
       "\n",
       "[7435 rows x 4 columns]"
      ]
     },
     "execution_count": 5,
     "metadata": {},
     "output_type": "execute_result"
    }
   ],
   "source": [
    "# Path to the nc file. \n",
    "\n",
    "base_path_hazard = os.path.join(os.getenv(\"physical_risk_database\"), 'hazard')\n",
    "\n",
    "hazard_type = 'Wind'\n",
    "datasource = 'ECB'\n",
    "\n",
    "inputfile_path = os.path.join(base_path_hazard, hazard_type, datasource)\n",
    "data_filename = 'wind_gumbel_ECB.csv'\n",
    "nuts_id_filename = 'NUTS_LB_2021_4326.geojson'\n",
    "\n",
    "# There is one .nc file with 8 return periods\n",
    "inputfile = os.path.join(inputfile_path, data_filename)\n",
    "ws = pd.read_csv(inputfile)\n",
    "ws.head(5)"
   ]
  },
  {
   "cell_type": "code",
   "execution_count": 6,
   "id": "e763b615",
   "metadata": {},
   "outputs": [
    {
     "data": {
      "text/html": [
       "<div>\n",
       "<style scoped>\n",
       "    .dataframe tbody tr th:only-of-type {\n",
       "        vertical-align: middle;\n",
       "    }\n",
       "\n",
       "    .dataframe tbody tr th {\n",
       "        vertical-align: top;\n",
       "    }\n",
       "\n",
       "    .dataframe thead th {\n",
       "        text-align: right;\n",
       "    }\n",
       "</style>\n",
       "<table border=\"1\" class=\"dataframe\">\n",
       "  <thead>\n",
       "    <tr style=\"text-align: right;\">\n",
       "      <th></th>\n",
       "      <th>NUTS_ID</th>\n",
       "      <th>geometry</th>\n",
       "    </tr>\n",
       "  </thead>\n",
       "  <tbody>\n",
       "    <tr>\n",
       "      <th>0</th>\n",
       "      <td>DEF0</td>\n",
       "      <td>POINT (9.82120 54.08040)</td>\n",
       "    </tr>\n",
       "    <tr>\n",
       "      <th>1</th>\n",
       "      <td>DEG0</td>\n",
       "      <td>POINT (11.02180 50.90440)</td>\n",
       "    </tr>\n",
       "    <tr>\n",
       "      <th>2</th>\n",
       "      <td>DK01</td>\n",
       "      <td>POINT (12.32960 55.86180)</td>\n",
       "    </tr>\n",
       "    <tr>\n",
       "      <th>3</th>\n",
       "      <td>DK02</td>\n",
       "      <td>POINT (11.75090 55.43760)</td>\n",
       "    </tr>\n",
       "    <tr>\n",
       "      <th>4</th>\n",
       "      <td>DK03</td>\n",
       "      <td>POINT (9.05690 55.40380)</td>\n",
       "    </tr>\n",
       "    <tr>\n",
       "      <th>...</th>\n",
       "      <td>...</td>\n",
       "      <td>...</td>\n",
       "    </tr>\n",
       "    <tr>\n",
       "      <th>2005</th>\n",
       "      <td>NO071</td>\n",
       "      <td>POINT (14.78250 66.69440)</td>\n",
       "    </tr>\n",
       "    <tr>\n",
       "      <th>2006</th>\n",
       "      <td>NO091</td>\n",
       "      <td>POINT (8.70540 59.49660)</td>\n",
       "    </tr>\n",
       "    <tr>\n",
       "      <th>2007</th>\n",
       "      <td>NO</td>\n",
       "      <td>POINT (9.29810 61.38750)</td>\n",
       "    </tr>\n",
       "    <tr>\n",
       "      <th>2008</th>\n",
       "      <td>NO02</td>\n",
       "      <td>POINT (10.42600 61.44500)</td>\n",
       "    </tr>\n",
       "    <tr>\n",
       "      <th>2009</th>\n",
       "      <td>NO0A3</td>\n",
       "      <td>POINT (8.53910 62.52120)</td>\n",
       "    </tr>\n",
       "  </tbody>\n",
       "</table>\n",
       "<p>2010 rows × 2 columns</p>\n",
       "</div>"
      ],
      "text/plain": [
       "     NUTS_ID                   geometry\n",
       "0       DEF0   POINT (9.82120 54.08040)\n",
       "1       DEG0  POINT (11.02180 50.90440)\n",
       "2       DK01  POINT (12.32960 55.86180)\n",
       "3       DK02  POINT (11.75090 55.43760)\n",
       "4       DK03   POINT (9.05690 55.40380)\n",
       "...      ...                        ...\n",
       "2005   NO071  POINT (14.78250 66.69440)\n",
       "2006   NO091   POINT (8.70540 59.49660)\n",
       "2007      NO   POINT (9.29810 61.38750)\n",
       "2008    NO02  POINT (10.42600 61.44500)\n",
       "2009   NO0A3   POINT (8.53910 62.52120)\n",
       "\n",
       "[2010 rows x 2 columns]"
      ]
     },
     "execution_count": 6,
     "metadata": {},
     "output_type": "execute_result"
    }
   ],
   "source": [
    "# Load nuts_id lat-lon coordinates from eurostat (see link below)\n",
    "# https://ec.europa.eu/eurostat/web/gisco/geodata/reference-data/administrative-units-statistical-units/nuts\n",
    "inputfile = os.path.join(inputfile_path, nuts_id_filename)\n",
    "nuts = gpd.read_file(inputfile)\n",
    "nuts = nuts[['NUTS_ID', 'geometry']]\n",
    "nuts.head(5)"
   ]
  },
  {
   "cell_type": "code",
   "execution_count": 51,
   "id": "a4814dd9",
   "metadata": {},
   "outputs": [],
   "source": [
    "# Create longitude and latitude vector. Create wind gust speed matrix.\n",
    "return_periods = [5, 10, 50, 100, 500]\n",
    "ws_rp_matrix = np.zeros(ws.shape[0])\n",
    "\n",
    "longitude = []\n",
    "latitude = []\n",
    "for i in range(ws.shape[0]):\n",
    "    ws_ = ws.gustspeed[i]\n",
    "    rp = ws.rp[i]\n",
    "    rp_index = return_periods.index(rp)\n",
    "    nuts_id = ws.nuts_id[i]\n",
    "    lon = nuts[nuts.NUTS_ID == nuts_id].geometry.x\n",
    "    lat = nuts[nuts.NUTS_ID == nuts_id].geometry.y\n",
    "\n",
    "    longitude.append(lon.values[0])\n",
    "    latitude.append(lat.values[0])\n",
    "\n",
    "    ws_rp_matrix[i] = ws_\n",
    "\n",
    "ws_rp_matrix = ws_rp_matrix.reshape(len(return_periods), (int(ws.shape[0] / len(return_periods))))\n"
   ]
  },
  {
   "cell_type": "code",
   "execution_count": 71,
   "id": "d2695808",
   "metadata": {},
   "outputs": [],
   "source": [
    "# As you can notice the file privdes data as a vector\n",
    "# We must create a grid\n",
    "\n",
    "# Create latitude and longitude grid\n",
    "min_lat, max_lat = min(latitude), max(latitude)\n",
    "min_lon, max_lon = min(longitude), min(longitude)\n",
    "\n",
    "total_size = ws_rp_matrix.shape[1]\n",
    "small_size = total_size\n",
    "grid = np.meshgrid(np.linspace(min_lon, max_lon, total_size), np.linspace(min_lat, max_lat, small_size))\n",
    "\n",
    "# Create and empty matrix with zeros\n",
    "ws_matrix = np.zeros((small_size, total_size, len(return_periods)))"
   ]
  },
  {
   "cell_type": "code",
   "execution_count": 73,
   "id": "51052e87",
   "metadata": {},
   "outputs": [],
   "source": [
    "# Save the data \n",
    "ws_matrix_name = os.path.join(inputfile_path, \"ws_matrix.npy\")\n",
    "\n",
    "if \"ws_matrix.npy\" in os.listdir(inputfile_path):\n",
    "    # Find the nearest point and and the ssl value\n",
    "\n",
    "    for pos_i in range(total_size):\n",
    "        lon_i = longitude[pos_i]\n",
    "        lat_i = latitude[pos_i]\n",
    "        ws_i = ws_rp_matrix[:, pos_i]\n",
    "        \n",
    "        aux_min = 500000\n",
    "        for i in range(small_size):\n",
    "            for j in range(total_size):\n",
    "                lon_ij = grid[0][i, j]\n",
    "                lat_ij = grid[1][i, j]\n",
    "\n",
    "                dist = math.dist((lon_ij, lat_ij), (lon_i, lat_i))\n",
    "\n",
    "                if dist < aux_min:\n",
    "                    aux_min = dist\n",
    "                    aux_min_i = (i, j)\n",
    "        \n",
    "        ws_matrix[aux_min_i[0], aux_min_i[1], :] = ws_i\n",
    "        print(pos_i)\n",
    "\n",
    "    ws_matrix = np.load(ws_matrix_name)\n",
    "else:\n",
    "    np.save(ws_matrix_name, ws_matrix)   "
   ]
  },
  {
   "cell_type": "code",
   "execution_count": 74,
   "id": "ff0611a7",
   "metadata": {},
   "outputs": [],
   "source": [
    "# Define zarr shape and coordinate system\n",
    "width = ws_matrix.shape[1]\n",
    "height = ws_matrix.shape[0]\n",
    "shape = (height, width)\n",
    "crs = str(CRS.from_epsg(3035))"
   ]
  },
  {
   "cell_type": "code",
   "execution_count": 75,
   "id": "0e5e7762",
   "metadata": {},
   "outputs": [],
   "source": [
    "# Transform from lat-lon coordinates to EPSD:3035 coordinates\n",
    "proj = pyproj.Transformer.from_crs(4326, 3035, always_xy=True, authority='EPSG')\n",
    "longitudes = grid[0]\n",
    "latitudes = grid[1]\n",
    "xs, ys = proj.transform(np.array(longitudes),  np.array(latitudes))"
   ]
  },
  {
   "cell_type": "code",
   "execution_count": 76,
   "id": "094eed55",
   "metadata": {},
   "outputs": [
    {
     "data": {
      "text/plain": [
       "Affine(1150.0541884724473, 0.0, 0.0,\n",
       "       -2466.3573575621162, 1500541.8858596976, 5587894.087333741)"
      ]
     },
     "execution_count": 76,
     "metadata": {},
     "output_type": "execute_result"
    }
   ],
   "source": [
    "# Create Affine transformation\n",
    "min_xs = xs.min()\n",
    "max_xs = xs.max()\n",
    "min_ys = ys.min()\n",
    "max_ys = ys.max()\n",
    "\n",
    "bounds = (min_xs, min_ys, max_xs, max_ys)\n",
    "size = shape\n",
    "\n",
    "# Compute the parameters of the georeference\n",
    "A = (bounds[2] - bounds[0]) / size[0] # pixel size in the x-direction in map units/pixel\n",
    "B = 0 # rotation about y-axis\n",
    "C = 0 # rotation about x-axis\n",
    "D = -(bounds[3] - bounds[1]) / size[1] # pixel size in the y-direction in map units, almost always negative\n",
    "E = bounds[0] # x-coordinate of the center of the upper left pixel\n",
    "F = bounds[3] # y-coordinate of the center of the upper left pixel\n",
    "\n",
    "transform = Affine(A, B, C, D, E, F)\n",
    "transform"
   ]
  },
  {
   "cell_type": "code",
   "execution_count": 77,
   "id": "7e90c456",
   "metadata": {},
   "outputs": [
    {
     "data": {
      "text/plain": [
       "<zarr.core.Array '/physrisk-hazard-indicators-dev01/hazard/hazard.zarr/wind_hist_RP_ECB' (5, 1487, 1487) float32>"
      ]
     },
     "execution_count": 77,
     "metadata": {},
     "output_type": "execute_result"
    }
   ],
   "source": [
    "# Create data file inside zarr group with name dataset_name\n",
    "\n",
    "# Name standard is: hazard_type + _ + hazard_subtype (if exists) + '_' + hist or scenario + '_' RP (return period) or event/ emulated + '_' + data_provider\n",
    "dataset_name = 'wind_hist_RP_ECB'\n",
    "group_path_array = os.path.join(group_path, dataset_name)\n",
    "oscZ._zarr_create(path=group_path_array,\n",
    "                  shape = shape,\n",
    "                  transform = transform,\n",
    "                  crs = str(crs),\n",
    "                  overwrite=False,\n",
    "                  return_periods=return_periods)"
   ]
  },
  {
   "cell_type": "code",
   "execution_count": 78,
   "id": "c1ba6dd6",
   "metadata": {},
   "outputs": [
    {
     "data": {
      "text/html": [
       "<table class=\"zarr-info\"><tbody><tr><th style=\"text-align: left\">Name</th><td style=\"text-align: left\">/physrisk-hazard-indicators-dev01/hazard/hazard.zarr/wind_hist_RP_ECB</td></tr><tr><th style=\"text-align: left\">Type</th><td style=\"text-align: left\">zarr.core.Array</td></tr><tr><th style=\"text-align: left\">Data type</th><td style=\"text-align: left\">float32</td></tr><tr><th style=\"text-align: left\">Shape</th><td style=\"text-align: left\">(5, 1487, 1487)</td></tr><tr><th style=\"text-align: left\">Chunk shape</th><td style=\"text-align: left\">(5, 1000, 1000)</td></tr><tr><th style=\"text-align: left\">Order</th><td style=\"text-align: left\">C</td></tr><tr><th style=\"text-align: left\">Read-only</th><td style=\"text-align: left\">False</td></tr><tr><th style=\"text-align: left\">Compressor</th><td style=\"text-align: left\">Blosc(cname='lz4', clevel=5, shuffle=SHUFFLE, blocksize=0)</td></tr><tr><th style=\"text-align: left\">Store type</th><td style=\"text-align: left\">zarr.storage.FSStore</td></tr><tr><th style=\"text-align: left\">No. bytes</th><td style=\"text-align: left\">44223380 (42.2M)</td></tr><tr><th style=\"text-align: left\">No. bytes stored</th><td style=\"text-align: left\">734</td></tr><tr><th style=\"text-align: left\">Storage ratio</th><td style=\"text-align: left\">60249.8</td></tr><tr><th style=\"text-align: left\">Chunks initialized</th><td style=\"text-align: left\">0/4</td></tr></tbody></table>"
      ],
      "text/plain": [
       "Name               : /physrisk-hazard-indicators-\n",
       "                   : dev01/hazard/hazard.zarr/wind_hist_RP_ECB\n",
       "Type               : zarr.core.Array\n",
       "Data type          : float32\n",
       "Shape              : (5, 1487, 1487)\n",
       "Chunk shape        : (5, 1000, 1000)\n",
       "Order              : C\n",
       "Read-only          : False\n",
       "Compressor         : Blosc(cname='lz4', clevel=5, shuffle=SHUFFLE, blocksize=0)\n",
       "Store type         : zarr.storage.FSStore\n",
       "No. bytes          : 44223380 (42.2M)\n",
       "No. bytes stored   : 734\n",
       "Storage ratio      : 60249.8\n",
       "Chunks initialized : 0/4"
      ]
     },
     "execution_count": 78,
     "metadata": {},
     "output_type": "execute_result"
    }
   ],
   "source": [
    "z = oscZ.root[group_path_array]\n",
    "z.info"
   ]
  },
  {
   "cell_type": "markdown",
   "id": "a9c374d9",
   "metadata": {},
   "source": [
    "## Steps to populate hazard.zarr/wind_hist_RP_ECB"
   ]
  },
  {
   "cell_type": "markdown",
   "id": "764d15ab",
   "metadata": {},
   "source": [
    "### Step 2: Populate the raster file for every return period"
   ]
  },
  {
   "cell_type": "code",
   "execution_count": 79,
   "id": "bf52807e",
   "metadata": {},
   "outputs": [],
   "source": [
    "chunck_size = 1000\n",
    "\n",
    "for rt_i in range(len(return_periods)):\n",
    "    for height_pos in range(0, height, chunck_size):\n",
    "        for width_pos in range(0, width, chunck_size):\n",
    "\n",
    "            z[rt_i,height_pos:height_pos+chunck_size, width_pos:width_pos+chunck_size] = ws_matrix[height_pos:height_pos+chunck_size, width_pos:width_pos+chunck_size, rt_i]"
   ]
  },
  {
   "cell_type": "code",
   "execution_count": null,
   "id": "c8fb4c95",
   "metadata": {},
   "outputs": [],
   "source": []
  }
 ],
 "metadata": {
  "kernelspec": {
   "display_name": "Python 3 (ipykernel)",
   "language": "python",
   "name": "python3"
  },
  "language_info": {
   "codemirror_mode": {
    "name": "ipython",
    "version": 3
   },
   "file_extension": ".py",
   "mimetype": "text/x-python",
   "name": "python",
   "nbconvert_exporter": "python",
   "pygments_lexer": "ipython3",
   "version": "3.8.12"
  }
 },
 "nbformat": 4,
 "nbformat_minor": 5
}
