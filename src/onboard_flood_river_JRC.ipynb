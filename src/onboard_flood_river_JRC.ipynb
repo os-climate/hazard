{
 "cells": [
  {
   "cell_type": "markdown",
   "id": "0918eac8",
   "metadata": {},
   "source": [
    "## Onboard River Flood Hazard Maps from Joint Research Center (JRC) to OS-C S3 bucket\n",
    "\n",
    "The data is flood depth historical return period data and can be found at [JRC data catalog](https://data.jrc.ec.europa.eu/dataset/1d128b6c-a4ee-4858-9e34-6210707f3c81). The methodology is detailed at [\"A new dataset of river flood hazard maps for Europe and the Mediterranean Basin\" by  Francesco Dottori, Lorenzo Alfieri, Alessandra Bianchi, Jon Skoien, and Peter Salamon](https://essd.copernicus.org/articles/14/1549/2022/).\n",
    "\n",
    "The provide six different return periods: 10, 20, 50, 100, 200 and 500 years.\n",
    "\n",
    "The resolution is 100m."
   ]
  },
  {
   "cell_type": "markdown",
   "id": "413beffc",
   "metadata": {},
   "source": [
    "## Create Zarr from shape and Affine transformation\n",
    "\n",
    "<span style=\"color:blue\">Note: this file must be located in /hazard/src/ for the dependencies to work</span>"
   ]
  },
  {
   "cell_type": "code",
   "execution_count": 1,
   "id": "d6d1053e",
   "metadata": {},
   "outputs": [
    {
     "name": "stderr",
     "output_type": "stream",
     "text": [
      "c:\\ProgramData\\Anaconda3\\lib\\site-packages\\xarray\\backends\\cfgrib_.py:27: UserWarning: Failed to load cfgrib - most likely there is a problem accessing the ecCodes library. Try `import cfgrib` to get the full error message\n",
      "  warnings.warn(\n"
     ]
    }
   ],
   "source": [
    "import sys\n",
    "import os\n",
    "import s3fs\n",
    "import zarr\n",
    "import numpy as np\n",
    "import rasterio\n",
    "import math\n",
    "import xarray as xr\n",
    "\n",
    "import pyproj\n",
    "from pyproj.crs import CRS\n",
    "from affine import Affine\n",
    "\n",
    "from hazard.sources.osc_zarr import OscZarr"
   ]
  },
  {
   "cell_type": "code",
   "execution_count": 2,
   "id": "dbf0b9c6",
   "metadata": {},
   "outputs": [
    {
     "data": {
      "application/vnd.jupyter.widget-view+json": {
       "model_id": "86eef010c74e4c07879edbb6fa7babd9",
       "version_major": 2,
       "version_minor": 0
      },
      "text/plain": [
       "Tree(nodes=(Node(disabled=True, name='/', nodes=(Node(disabled=True, name='inundation_coastal', nodes=(Node(di…"
      ]
     },
     "execution_count": 2,
     "metadata": {},
     "output_type": "execute_result"
    }
   ],
   "source": [
    "# https://console-openshift-console.apps.odh-cl1.apps.os-climate.org/k8s/ns/sandbox/secrets/physrisk-dev-s3-keys\n",
    "# Hazard indicators bucket\n",
    "default_staging_bucket = 'physrisk-hazard-indicators-dev01'\n",
    "prefix = 'hazard'\n",
    "\n",
    "# Acess key and secret key are stored as env vars OSC_S3_HI_ACCESS_KEY and OSC_S3_HI_SECRET_KEY, resp.\n",
    "s3 = s3fs.S3FileSystem(anon=False, key=os.environ[\"OSC_S3_HIdev01_ACCESS_KEY\"], secret=os.environ[\"OSC_S3_HIdev01_SECRET_KEY\"])\n",
    "\n",
    "# Define zarr group\n",
    "zarr_storage = 'hazard_consortium.zarr'\n",
    "group_path = os.path.join(default_staging_bucket, prefix, zarr_storage).replace('\\\\','/')\n",
    "store = s3fs.S3Map(root=group_path, s3=s3, check=False)\n",
    "root = zarr.group(store=store, overwrite=False) \n",
    "\n",
    "# zarr_ storage tree\n",
    "root.tree()"
   ]
  },
  {
   "cell_type": "code",
   "execution_count": 3,
   "id": "04f36217",
   "metadata": {},
   "outputs": [
    {
     "data": {
      "text/plain": [
       "['physrisk-hazard-indicators-dev01/hazard/hazard.zarr',\n",
       " 'physrisk-hazard-indicators-dev01/hazard/hazard_consortium.zarr',\n",
       " 'physrisk-hazard-indicators-dev01/hazard/riverflood_JRC_RP_hist.zarr']"
      ]
     },
     "execution_count": 3,
     "metadata": {},
     "output_type": "execute_result"
    }
   ],
   "source": [
    "# List folder files\n",
    "s3.ls(os.path.join(default_staging_bucket, prefix).replace('\\\\','/'))"
   ]
  },
  {
   "cell_type": "code",
   "execution_count": 4,
   "id": "b87b92ff",
   "metadata": {},
   "outputs": [],
   "source": [
    "# Create OscZarr object to interact with the bucket.\n",
    "oscZ = OscZarr(bucket=default_staging_bucket,\n",
    "        prefix=prefix,\n",
    "        s3=s3,\n",
    "        store=store)"
   ]
  },
  {
   "cell_type": "code",
   "execution_count": 5,
   "id": "53437d26",
   "metadata": {},
   "outputs": [],
   "source": [
    "# Path to the tif files. There is one tif file per return period\n",
    "\n",
    "base_path_hazard = os.path.join(os.getenv(\"physical_risk_database\"), 'hazard')\n",
    "\n",
    "hazard_type = 'Flood'\n",
    "datasource = 'JRC'\n",
    "\n",
    "inputfile_path = os.path.join(base_path_hazard, hazard_type, datasource)"
   ]
  },
  {
   "cell_type": "code",
   "execution_count": 6,
   "id": "f9adaa39",
   "metadata": {},
   "outputs": [],
   "source": [
    "# Read one tif file to get the metadata: transform, crs, width, height and shape\n",
    "\n",
    "return_period = '010'\n",
    "data_filename = 'floodmap_EFAS_RP{}_C.tif'.format(return_period, return_period)\n",
    "inputfile = os.path.join(inputfile_path, data_filename)\n",
    "\n",
    "src = rasterio.open(inputfile)\n",
    "\n",
    "transform = src.transform\n",
    "crs = CRS.from_epsg(3035)\n",
    "width = src.width\n",
    "height = src.height\n",
    "shape = (height, width)\n",
    "\n",
    "return_periods_str = ['010', '020', '050', '100', '200', '500']\n",
    "return_periods = [int(rt) for rt in return_periods_str]\n",
    "\n",
    "src.close()"
   ]
  },
  {
   "cell_type": "code",
   "execution_count": 8,
   "id": "c19377d3",
   "metadata": {},
   "outputs": [],
   "source": [
    "proj = pyproj.Transformer.from_crs(3035, 4326, always_xy=True, authority='EPSG')\n",
    "cols, rows = np.meshgrid([0, width-1], [0, height-1])\n",
    "xs, ys = rasterio.transform.xy(transform, rows, cols)\n",
    "longitudes, latitudes = proj.transform(np.array(xs),  np.array(ys))"
   ]
  },
  {
   "cell_type": "code",
   "execution_count": 9,
   "id": "33adc566",
   "metadata": {},
   "outputs": [
    {
     "data": {
      "text/plain": [
       "Affine(0.002798819336299164, 0.0, 0.0,\n",
       "       -0.0005430512923345995, -55.508337433961465, 59.23743791216032)"
      ]
     },
     "execution_count": 9,
     "metadata": {},
     "output_type": "execute_result"
    }
   ],
   "source": [
    "crs = str(CRS.from_epsg(4326))\n",
    "\n",
    "# Create Affine transformation\n",
    "min_xs = longitudes.min()\n",
    "max_xs = longitudes.max()\n",
    "min_ys = latitudes.min()\n",
    "max_ys = latitudes.max()\n",
    "\n",
    "bounds = (min_xs, min_ys, max_xs, max_ys)\n",
    "size = shape\n",
    "\n",
    "# Compute the parameters of the georeference\n",
    "A = (bounds[2] - bounds[0]) / size[0] # pixel size in the x-direction in map units/pixel\n",
    "B = 0 # rotation about y-axis\n",
    "C = 0 # rotation about x-axis\n",
    "D = -(bounds[3] - bounds[1]) / size[1] # pixel size in the y-direction in map units, almost always negative\n",
    "E = bounds[0] # x-coordinate of the center of the upper left pixel\n",
    "F = bounds[3] # y-coordinate of the center of the upper left pixel\n",
    "\n",
    "transform = Affine(A, B, C, D, E, F)\n",
    "transform\n"
   ]
  },
  {
   "cell_type": "code",
   "execution_count": 12,
   "id": "7e90c456",
   "metadata": {},
   "outputs": [
    {
     "data": {
      "text/plain": [
       "<zarr.core.Array '/inundation_river/jrc/v1/flood_depth_historical_1990_2016_map' (6, 45242, 63976) float32>"
      ]
     },
     "execution_count": 12,
     "metadata": {},
     "output_type": "execute_result"
    }
   ],
   "source": [
    "# Create data file inside zarr group with name dataset_name\n",
    "\n",
    "# Name standard is: hazard_type + _ + hazard_subtype (if exists) + '_' + hist or scenario + '_' RP (return period) or event/ emulated + '_' + data_provider\n",
    "hazard_type = 'inundation_river'\n",
    "data_source_name = 'jrc'\n",
    "version = 'v1'\n",
    "dataset_name = 'flood_depth_historical_1990_2016_map'\n",
    "group_path_array = os.path.join(hazard_type, data_source_name, version, dataset_name)\n",
    "oscZ._zarr_create(path=group_path_array,\n",
    "                  shape = shape,\n",
    "                  transform = transform,\n",
    "                  crs = str(crs),\n",
    "                  overwrite=False,\n",
    "                  return_periods=return_periods)"
   ]
  },
  {
   "cell_type": "code",
   "execution_count": 13,
   "id": "c1ba6dd6",
   "metadata": {},
   "outputs": [
    {
     "data": {
      "text/html": [
       "<table class=\"zarr-info\"><tbody><tr><th style=\"text-align: left\">Name</th><td style=\"text-align: left\">/inundation_river/jrc/v1/flood_depth_historical_1990_2016_map</td></tr><tr><th style=\"text-align: left\">Type</th><td style=\"text-align: left\">zarr.core.Array</td></tr><tr><th style=\"text-align: left\">Data type</th><td style=\"text-align: left\">float32</td></tr><tr><th style=\"text-align: left\">Shape</th><td style=\"text-align: left\">(6, 45242, 63976)</td></tr><tr><th style=\"text-align: left\">Chunk shape</th><td style=\"text-align: left\">(6, 1000, 1000)</td></tr><tr><th style=\"text-align: left\">Order</th><td style=\"text-align: left\">C</td></tr><tr><th style=\"text-align: left\">Read-only</th><td style=\"text-align: left\">False</td></tr><tr><th style=\"text-align: left\">Compressor</th><td style=\"text-align: left\">Blosc(cname='lz4', clevel=5, shuffle=SHUFFLE, blocksize=0)</td></tr><tr><th style=\"text-align: left\">Store type</th><td style=\"text-align: left\">zarr.storage.FSStore</td></tr><tr><th style=\"text-align: left\">No. bytes</th><td style=\"text-align: left\">69465652608 (64.7G)</td></tr><tr><th style=\"text-align: left\">No. bytes stored</th><td style=\"text-align: left\">756</td></tr><tr><th style=\"text-align: left\">Storage ratio</th><td style=\"text-align: left\">91885783.9</td></tr><tr><th style=\"text-align: left\">Chunks initialized</th><td style=\"text-align: left\">0/2944</td></tr></tbody></table>"
      ],
      "text/plain": [
       "Name               : /inundation_river/jrc/v1/flood_depth_historical_1990_2016_m\n",
       "                   : ap\n",
       "Type               : zarr.core.Array\n",
       "Data type          : float32\n",
       "Shape              : (6, 45242, 63976)\n",
       "Chunk shape        : (6, 1000, 1000)\n",
       "Order              : C\n",
       "Read-only          : False\n",
       "Compressor         : Blosc(cname='lz4', clevel=5, shuffle=SHUFFLE, blocksize=0)\n",
       "Store type         : zarr.storage.FSStore\n",
       "No. bytes          : 69465652608 (64.7G)\n",
       "No. bytes stored   : 756\n",
       "Storage ratio      : 91885783.9\n",
       "Chunks initialized : 0/2944"
      ]
     },
     "execution_count": 13,
     "metadata": {},
     "output_type": "execute_result"
    }
   ],
   "source": [
    "z = oscZ.root[group_path_array]\n",
    "z.info"
   ]
  },
  {
   "cell_type": "markdown",
   "id": "a9c374d9",
   "metadata": {},
   "source": [
    "## Steps to populate hazard.zarr/flood_river_hist_RP_JRC\n",
    "\n",
    "### Step 1: Read tif files"
   ]
  },
  {
   "cell_type": "code",
   "execution_count": 14,
   "id": "467696c0",
   "metadata": {},
   "outputs": [],
   "source": [
    "def read_window(src, height_pos, width_pos, chunck_size):\n",
    "    \"\"\"\n",
    "    Read JRC data.\n",
    "\n",
    "    Parameters:\n",
    "        path_to_file (str): full path to tif file.\n",
    "\n",
    "    Returns:\n",
    "        fld_depth (numpy array): flood depth at (x1, y1) 3035 EPSG coordinates\n",
    "\n",
    "    \"\"\"\n",
    "    window = rasterio.windows.Window(width_pos, height_pos, chunck_size, chunck_size)\n",
    "    band = src.read(1, window=window)\n",
    "\n",
    "    to_impute = band == src.nodata\n",
    "    band[to_impute] = 0\n",
    "\n",
    "    return band"
   ]
  },
  {
   "cell_type": "markdown",
   "id": "764d15ab",
   "metadata": {},
   "source": [
    "### Step 2: Populate the raster file for every return period"
   ]
  },
  {
   "cell_type": "code",
   "execution_count": 15,
   "id": "bf52807e",
   "metadata": {},
   "outputs": [],
   "source": [
    "chunck_size = 1000\n",
    "\n",
    "for rt_i, rt in enumerate(return_periods_str):\n",
    "\n",
    "    data_filename = 'floodmap_EFAS_RP{}_C.tif'.format(rt, rt)\n",
    "    inputfile = os.path.join(inputfile_path, data_filename)\n",
    "\n",
    "    src = rasterio.open(inputfile)\n",
    "\n",
    "    #da.data[rt_i,:,:] = fld_depth\n",
    "    for height_pos in range(0, height, chunck_size):\n",
    "        for width_pos in range(0, width, chunck_size):\n",
    "\n",
    "            band = read_window(src, height_pos, width_pos, chunck_size)\n",
    "\n",
    "            z[rt_i,height_pos:height_pos+chunck_size, width_pos:width_pos+chunck_size] = band"
   ]
  },
  {
   "cell_type": "code",
   "execution_count": null,
   "id": "69c3d3c7",
   "metadata": {},
   "outputs": [],
   "source": []
  }
 ],
 "metadata": {
  "kernelspec": {
   "display_name": "Python 3 (ipykernel)",
   "language": "python",
   "name": "python3"
  },
  "language_info": {
   "codemirror_mode": {
    "name": "ipython",
    "version": 3
   },
   "file_extension": ".py",
   "mimetype": "text/x-python",
   "name": "python",
   "nbconvert_exporter": "python",
   "pygments_lexer": "ipython3",
   "version": "3.8.12"
  }
 },
 "nbformat": 4,
 "nbformat_minor": 5
}
