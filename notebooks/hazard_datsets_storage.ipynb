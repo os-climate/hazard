{
 "cells": [
  {
   "cell_type": "code",
   "execution_count": null,
   "metadata": {},
   "outputs": [],
   "source": [
    "# pip install\n"
   ]
  }
 ],
 "metadata": {
  "kernelspec": {
   "display_name": "hazard-eB0uxNRl",
   "language": "python",
   "name": "python3"
  },
  "language_info": {
   "name": "python",
   "version": "3.10.9 (main, Dec 15 2022, 10:44:50) [Clang 14.0.0 (clang-1400.0.29.202)]"
  },
  "orig_nbformat": 4,
  "vscode": {
   "interpreter": {
    "hash": "8737dcc47f2aedb5cc549c5c7223cc236da8129c95afdca1d9ab6717f27b8fb0"
   }
  }
 },
 "nbformat": 4,
 "nbformat_minor": 2
}
